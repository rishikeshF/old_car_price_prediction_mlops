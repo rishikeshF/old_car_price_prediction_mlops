{
 "cells": [
  {
   "cell_type": "code",
   "execution_count": 6,
   "id": "e68ce829",
   "metadata": {},
   "outputs": [],
   "source": [
    "import numpy as np\n",
    "import pandas as pd\n",
    "import matplotlib.pyplot as plt\n",
    "from sklearn.preprocessing import OrdinalEncoder, StandardScaler\n",
    "from sklearn.linear_model import LinearRegression, SGDRegressor\n",
    "from sklearn.metrics import mean_squared_error\n",
    "from sklearn.model_selection import train_test_split\n",
    "import xgboost as xgb\n",
    "from hyperopt import fmin, tpe, hp, STATUS_OK, Trials\n",
    "from hyperopt.pyll import scope\n",
    "from sklearn.ensemble import RandomForestRegressor, GradientBoostingRegressor, ExtraTreesRegressor\n",
    "from sklearn.svm import LinearSVR\n",
    "import pickle\n",
    "from pathlib import Path\n",
    "from mlflow.tracking import MlflowClient\n",
    "import mlflow.pyfunc\n",
    "import mlflow\n",
    "%matplotlib inline"
   ]
  },
  {
   "cell_type": "code",
   "execution_count": 14,
   "id": "0261b05a",
   "metadata": {},
   "outputs": [],
   "source": [
    "MLFLOW_TRACKING_URI = \"sqlite:///mlflow.db\"\n",
    "mlflow.set_tracking_uri(MLFLOW_TRACKING_URI)\n",
    "client = MlflowClient(tracking_uri=MLFLOW_TRACKING_URI)\n",
    "run_id = '9ea7408ce7224421b1e72937f5ff18e7'\n",
    "\n",
    "def read_data(filename):\n",
    "    df = pd.read_csv(filename, index_col=None).drop(columns=['Unnamed: 0'])\n",
    "    df.dropna(inplace=True)\n",
    "    \n",
    "    df.Location = df.Location.str.split('-').apply(lambda x : x[0])\n",
    "    df['Price'] = df.Price.apply(lambda x : x/1000)\n",
    "    \n",
    "    return df\n",
    "\n",
    "def preprocess(df, run_id ):\n",
    "    categorical_features = ['Car Name', 'Fuel', 'Location', 'Drive', 'Type']\n",
    "    \n",
    "    if 'Price' in df.columns : \n",
    "        y = df['Price'].values\n",
    "        X = df.drop(columns='Price')\n",
    "    else : \n",
    "        X,y = df, None\n",
    "        \n",
    "    path = Path(\"preprocess/preprocess.bin\")\n",
    "    #if not path.isfile():\n",
    "    client.download_artifacts(run_id=run_id, path='preprocess', dst_path='.')\n",
    "    with open(path, 'rb') as f_in : \n",
    "        oe, scaler = pickle.load(f_in)\n",
    "    X[categorical_features] = oe.transform( X[categorical_features] )\n",
    "    X = scaler.transform(X)\n",
    "    return X,y\n",
    "    \n",
    "def test_model(name, stage, X_test, y_test):\n",
    "    # Load model as a PyFuncModel.\n",
    "    model = mlflow.pyfunc.load_model(model_uri=f\"models:/{model_name}/{stage}\")\n",
    "    y_pred = model.predict(X_test)\n",
    "    rmse = mean_squared_error(y_test, y_pred, squared=False)\n",
    "    return {\"rmse\" : rmse}"
   ]
  },
  {
   "cell_type": "code",
   "execution_count": 15,
   "id": "fd55bbef",
   "metadata": {},
   "outputs": [
    {
     "name": "stderr",
     "output_type": "stream",
     "text": [
      "C:\\Users\\rishikesh\\AppData\\Local\\Temp\\ipykernel_2272\\1712179055.py:26: FutureWarning: ``mlflow.tracking.client.MlflowClient.download_artifacts`` is deprecated since 2.0. This method will be removed in a future release. Use ``mlflow.artifacts.download_artifacts`` instead.\n",
      "  client.download_artifacts(run_id=run_id, path='preprocess', dst_path='.')\n"
     ]
    }
   ],
   "source": [
    "df = read_data(\"cars_24_combined.csv\")\n",
    "X_test, y_test = preprocess(df, run_id)\n"
   ]
  },
  {
   "cell_type": "code",
   "execution_count": 17,
   "id": "f0e2585d",
   "metadata": {},
   "outputs": [
    {
     "name": "stderr",
     "output_type": "stream",
     "text": [
      "2023/07/20 05:09:35 WARNING mlflow.pyfunc: Detected one or more mismatches between the model's dependencies and the current Python environment:\n",
      " - mlflow (current: 2.4.1, required: mlflow==2.4)\n",
      "To fix the mismatches, call `mlflow.pyfunc.get_model_dependencies(model_uri)` to fetch the model's environment and install dependencies using the resulting environment file.\n"
     ]
    },
    {
     "name": "stdout",
     "output_type": "stream",
     "text": [
      "CPU times: total: 438 ms\n",
      "Wall time: 452 ms\n"
     ]
    },
    {
     "data": {
      "text/plain": [
       "{'rmse': 52.427804245239926}"
      ]
     },
     "execution_count": 17,
     "metadata": {},
     "output_type": "execute_result"
    }
   ],
   "source": [
    "model_name = \"sklearn\"\n",
    "stage = 'Production'\n",
    "\n",
    "%time test_model(name=model_name, stage=stage, X_test=X_test, y_test=y_test)"
   ]
  },
  {
   "cell_type": "code",
   "execution_count": null,
   "id": "cda754a8",
   "metadata": {},
   "outputs": [],
   "source": []
  }
 ],
 "metadata": {
  "kernelspec": {
   "display_name": "Python 3 (ipykernel)",
   "language": "python",
   "name": "python3"
  },
  "language_info": {
   "codemirror_mode": {
    "name": "ipython",
    "version": 3
   },
   "file_extension": ".py",
   "mimetype": "text/x-python",
   "name": "python",
   "nbconvert_exporter": "python",
   "pygments_lexer": "ipython3",
   "version": "3.9.16"
  }
 },
 "nbformat": 4,
 "nbformat_minor": 5
}
