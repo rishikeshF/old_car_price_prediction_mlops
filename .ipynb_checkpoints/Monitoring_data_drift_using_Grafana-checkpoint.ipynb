{
 "cells": [
  {
   "cell_type": "code",
   "execution_count": 16,
   "id": "9256a28d-1fda-4171-98d3-8ec0a819bded",
   "metadata": {},
   "outputs": [],
   "source": [
    "from evidently import ColumnMapping\n",
    "from evidently.report import Report\n",
    "from evidently.metrics import ColumnDriftMetric, DatasetDriftMetric, DatasetMissingValuesMetric\n",
    "import pandas as pd\n",
    "import numpy as np\n",
    "from tqdm import tqdm\n",
    "import mlflow\n",
    "import pickle\n",
    "import xgboost as xgb"
   ]
  },
  {
   "cell_type": "code",
   "execution_count": 21,
   "id": "eb831b13-3a0f-4336-99b6-83d2a822d210",
   "metadata": {},
   "outputs": [],
   "source": [
    "with open('data/train.bin', 'rb') as f_in :\n",
    "    X_train, y_train = pickle.load(f_in)\n",
    "\n",
    "with open('data/test.bin', 'rb') as f_in :\n",
    "    X_test, y_test = pickle.load(f_in)\n",
    "    \n",
    "xg_train = xgb.DMatrix(X_train, label=y_train)"
   ]
  },
  {
   "cell_type": "code",
   "execution_count": 20,
   "id": "a49987ab-042a-459d-aabe-420ab7a6ded1",
   "metadata": {},
   "outputs": [],
   "source": [
    "model_name = \"xgboost\"\n",
    "stage = 'Production'\n",
    "model = mlflow.xgboost.load_model(\"./mlruns/1/6b6ffc7871fe4ea0b9eb457cbf6a309a/artifacts/model\")\n",
    "prediction = model.predict(xg_train)"
   ]
  },
  {
   "cell_type": "code",
   "execution_count": null,
   "id": "7792e430-c731-4bb3-bdc1-7eade264a2b7",
   "metadata": {},
   "outputs": [],
   "source": [
    "features = ['Car Name', 'Year', 'Distance', 'Owner', 'Fuel', 'Location', 'Drive', 'Type',] #'Price']\n"
   ]
  },
  {
   "cell_type": "code",
   "execution_count": null,
   "id": "5f723fe5-6624-42c2-8c0f-0b42cde03363",
   "metadata": {},
   "outputs": [],
   "source": [
    "features = ['Car Name', 'Year', 'Distance', 'Owner', 'Fuel', 'Location', 'Drive', 'Type',]\n",
    "X_train = pd.DataFrame(X_train, columns = features )\n"
   ]
  },
  {
   "cell_type": "code",
   "execution_count": null,
   "id": "adcc03db-c9f7-40a5-9812-adbf60ba10a4",
   "metadata": {},
   "outputs": [],
   "source": [
    "X_train['prediction'] = prediction"
   ]
  },
  {
   "cell_type": "code",
   "execution_count": 23,
   "id": "7c1c7de8-cfaf-48e7-9072-a1da7908a7a0",
   "metadata": {},
   "outputs": [
    {
     "ename": "AttributeError",
     "evalue": "'numpy.ndarray' object has no attribute 'head'",
     "output_type": "error",
     "traceback": [
      "\u001b[1;31m---------------------------------------------------------------------------\u001b[0m",
      "\u001b[1;31mAttributeError\u001b[0m                            Traceback (most recent call last)",
      "Cell \u001b[1;32mIn[23], line 1\u001b[0m\n\u001b[1;32m----> 1\u001b[0m \u001b[43mX_train\u001b[49m\u001b[38;5;241;43m.\u001b[39;49m\u001b[43mhead\u001b[49m()\n",
      "\u001b[1;31mAttributeError\u001b[0m: 'numpy.ndarray' object has no attribute 'head'"
     ]
    }
   ],
   "source": [
    "\n",
    "X_train.head()"
   ]
  },
  {
   "cell_type": "code",
   "execution_count": null,
   "id": "13e15ff4-6b2e-42a1-81ef-3b84b8b47893",
   "metadata": {},
   "outputs": [],
   "source": [
    "categorical_features = ['Car Name', 'Fuel', 'Location', 'Drive', 'Type']\n",
    "target_feature = 'Price'"
   ]
  },
  {
   "cell_type": "code",
   "execution_count": 28,
   "id": "09ecab96-556b-4cbb-9564-f1e762820ac9",
   "metadata": {},
   "outputs": [
    {
     "data": {
      "text/html": [
       "<div>\n",
       "<style scoped>\n",
       "    .dataframe tbody tr th:only-of-type {\n",
       "        vertical-align: middle;\n",
       "    }\n",
       "\n",
       "    .dataframe tbody tr th {\n",
       "        vertical-align: top;\n",
       "    }\n",
       "\n",
       "    .dataframe thead th {\n",
       "        text-align: right;\n",
       "    }\n",
       "</style>\n",
       "<table border=\"1\" class=\"dataframe\">\n",
       "  <thead>\n",
       "    <tr style=\"text-align: right;\">\n",
       "      <th></th>\n",
       "      <th>Car Name</th>\n",
       "      <th>Year</th>\n",
       "      <th>Distance</th>\n",
       "      <th>Owner</th>\n",
       "      <th>Fuel</th>\n",
       "      <th>Location</th>\n",
       "      <th>Drive</th>\n",
       "      <th>Type</th>\n",
       "      <th>Price</th>\n",
       "    </tr>\n",
       "  </thead>\n",
       "  <tbody>\n",
       "    <tr>\n",
       "      <th>0</th>\n",
       "      <td>Maruti S PRESSO</td>\n",
       "      <td>2022.0</td>\n",
       "      <td>3878</td>\n",
       "      <td>1</td>\n",
       "      <td>PETROL</td>\n",
       "      <td>HR-98</td>\n",
       "      <td>Manual</td>\n",
       "      <td>HatchBack</td>\n",
       "      <td>514000</td>\n",
       "    </tr>\n",
       "    <tr>\n",
       "      <th>1</th>\n",
       "      <td>Hyundai Xcent</td>\n",
       "      <td>2018.0</td>\n",
       "      <td>32041</td>\n",
       "      <td>1</td>\n",
       "      <td>PETROL</td>\n",
       "      <td>TN-22</td>\n",
       "      <td>Manual</td>\n",
       "      <td>Sedan</td>\n",
       "      <td>674000</td>\n",
       "    </tr>\n",
       "    <tr>\n",
       "      <th>2</th>\n",
       "      <td>Tata Safari</td>\n",
       "      <td>2021.0</td>\n",
       "      <td>96339</td>\n",
       "      <td>1</td>\n",
       "      <td>DIESEL</td>\n",
       "      <td>TS-08</td>\n",
       "      <td>Automatic</td>\n",
       "      <td>SUV</td>\n",
       "      <td>1952000</td>\n",
       "    </tr>\n",
       "  </tbody>\n",
       "</table>\n",
       "</div>"
      ],
      "text/plain": [
       "          Car Name    Year  Distance  Owner    Fuel Location      Drive   \n",
       "0  Maruti S PRESSO  2022.0      3878      1  PETROL    HR-98     Manual  \\\n",
       "1    Hyundai Xcent  2018.0     32041      1  PETROL    TN-22     Manual   \n",
       "2      Tata Safari  2021.0     96339      1  DIESEL    TS-08  Automatic   \n",
       "\n",
       "        Type    Price  \n",
       "0  HatchBack   514000  \n",
       "1      Sedan   674000  \n",
       "2        SUV  1952000  "
      ]
     },
     "execution_count": 28,
     "metadata": {},
     "output_type": "execute_result"
    }
   ],
   "source": [
    "df = pd.read_csv(\"cars_24_combined.csv\").drop(columns=[\"Unnamed: 0\"])\n",
    "df.head(3)"
   ]
  },
  {
   "cell_type": "code",
   "execution_count": null,
   "id": "749198b7-3ad1-46d3-92fa-3c87474a76a8",
   "metadata": {},
   "outputs": [],
   "source": []
  }
 ],
 "metadata": {
  "kernelspec": {
   "display_name": "Python 3 (ipykernel)",
   "language": "python",
   "name": "python3"
  },
  "language_info": {
   "codemirror_mode": {
    "name": "ipython",
    "version": 3
   },
   "file_extension": ".py",
   "mimetype": "text/x-python",
   "name": "python",
   "nbconvert_exporter": "python",
   "pygments_lexer": "ipython3",
   "version": "3.9.12"
  }
 },
 "nbformat": 4,
 "nbformat_minor": 5
}
