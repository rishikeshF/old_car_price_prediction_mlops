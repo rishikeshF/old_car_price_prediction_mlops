{
 "cells": [
  {
   "cell_type": "code",
   "execution_count": 1,
   "id": "e68ce829",
   "metadata": {},
   "outputs": [],
   "source": [
    "import numpy as np\n",
    "import pandas as pd\n",
    "import matplotlib.pyplot as plt\n",
    "from sklearn.preprocessing import OrdinalEncoder, StandardScaler\n",
    "from sklearn.linear_model import LinearRegression, SGDRegressor\n",
    "from sklearn.metrics import mean_squared_error\n",
    "from sklearn.model_selection import train_test_split\n",
    "import xgboost as xgb\n",
    "from hyperopt import fmin, tpe, hp, STATUS_OK, Trials\n",
    "from hyperopt.pyll import scope\n",
    "from sklearn.ensemble import RandomForestRegressor, GradientBoostingRegressor, ExtraTreesRegressor\n",
    "from sklearn.svm import LinearSVR\n",
    "import pickle\n",
    "from pathlib import Path\n",
    "from mlflow.tracking import MlflowClient\n",
    "import mlflow.pyfunc\n",
    "import mlflow\n",
    "%matplotlib inline"
   ]
  },
  {
   "cell_type": "code",
   "execution_count": 10,
   "id": "0261b05a",
   "metadata": {},
   "outputs": [],
   "source": [
    "MLFLOW_TRACKING_URI = \"sqlite:///mlflow.db\"\n",
    "mlflow.set_tracking_uri(MLFLOW_TRACKING_URI)\n",
    "client = MlflowClient(tracking_uri=MLFLOW_TRACKING_URI)\n",
    "run_id = 'd766a676d45146e3912e38740b3b5036'\n",
    "\n",
    "def read_data(filename):\n",
    "    df = pd.read_csv(filename, index_col=None).drop(columns=['Unnamed: 0'])\n",
    "    df.dropna(inplace=True)\n",
    "    \n",
    "    df.Location = df.Location.str.split('-').apply(lambda x : x[0])\n",
    "    df['Price'] = df.Price.apply(lambda x : x/1000)\n",
    "    \n",
    "    return df\n",
    "\n",
    "def preprocess(df, run_id ):\n",
    "    categorical_features = ['Car Name', 'Fuel', 'Location', 'Drive', 'Type']\n",
    "    \n",
    "    if 'Price' in df.columns : \n",
    "        y = df['Price'].values\n",
    "        X = df.drop(columns='Price')\n",
    "    else : \n",
    "        X,y = df, None\n",
    "        \n",
    "    path = Path(\"preprocess/preprocess.bin\")\n",
    "    #if not path.isfile():\n",
    "    client.download_artifacts(run_id=run_id, path='preprocess', dst_path='.')\n",
    "    with open(path, 'rb') as f_in : \n",
    "        oe, scaler = pickle.load(f_in)\n",
    "    X[categorical_features] = oe.transform( X[categorical_features] )\n",
    "    X = scaler.transform(X)\n",
    "    return X,y\n",
    "    \n",
    "def test_model(name, stage, X_test, y_test):\n",
    "    # Load model as a PyFuncModel.\n",
    "    model = mlflow.pyfunc.load_model(model_uri=f\"models:/{model_name}/{stage}\")\n",
    "    y_pred = model.predict(X_test)\n",
    "    rmse = mean_squared_error(y_test, y_pred, squared=False)\n",
    "    return {\"rmse\" : rmse}"
   ]
  },
  {
   "cell_type": "code",
   "execution_count": 11,
   "id": "fd55bbef",
   "metadata": {
    "scrolled": true
   },
   "outputs": [
    {
     "name": "stderr",
     "output_type": "stream",
     "text": [
      "C:\\Users\\rishikesh\\AppData\\Local\\Temp\\ipykernel_3900\\194821175.py:26: FutureWarning: ``mlflow.tracking.client.MlflowClient.download_artifacts`` is deprecated since 2.0. This method will be removed in a future release. Use ``mlflow.artifacts.download_artifacts`` instead.\n",
      "  client.download_artifacts(run_id=run_id, path='preprocess', dst_path='.')\n"
     ]
    }
   ],
   "source": [
    "df = read_data(\"cars_24_combined.csv\")\n",
    "X_test, y_test = preprocess(df, run_id)\n"
   ]
  },
  {
   "cell_type": "code",
   "execution_count": 13,
   "id": "f0e2585d",
   "metadata": {},
   "outputs": [
    {
     "name": "stderr",
     "output_type": "stream",
     "text": [
      "2023/07/30 12:04:24 WARNING mlflow.pyfunc: Detected one or more mismatches between the model's dependencies and the current Python environment:\n",
      " - numpy (current: 1.25.0, required: numpy==1.25.1)\n",
      " - typing-extensions (current: 4.7.0, required: typing-extensions==4.7.1)\n",
      "To fix the mismatches, call `mlflow.pyfunc.get_model_dependencies(model_uri)` to fetch the model's environment and install dependencies using the resulting environment file.\n"
     ]
    },
    {
     "name": "stdout",
     "output_type": "stream",
     "text": [
      "CPU times: total: 2.38 s\n",
      "Wall time: 5.57 s\n"
     ]
    },
    {
     "data": {
      "text/plain": [
       "{'rmse': 35.29596994403189}"
      ]
     },
     "execution_count": 13,
     "metadata": {},
     "output_type": "execute_result"
    }
   ],
   "source": [
    "model_name = \"xgboost\"\n",
    "stage = 'Production'\n",
    "\n",
    "%time test_model(name=model_name, stage=stage, X_test=X_test, y_test=y_test)"
   ]
  },
  {
   "cell_type": "markdown",
   "id": "ca35adbf-4649-4749-b014-27b46769bc29",
   "metadata": {},
   "source": [
    "#### Deployment code"
   ]
  },
  {
   "cell_type": "code",
   "execution_count": 14,
   "id": "f20825b9-11d1-4ab0-abc7-4a11bcafbe7a",
   "metadata": {},
   "outputs": [
    {
     "name": "stderr",
     "output_type": "stream",
     "text": [
      "C:\\Users\\rishikesh\\AppData\\Local\\Temp\\ipykernel_3900\\194821175.py:26: FutureWarning: ``mlflow.tracking.client.MlflowClient.download_artifacts`` is deprecated since 2.0. This method will be removed in a future release. Use ``mlflow.artifacts.download_artifacts`` instead.\n",
      "  client.download_artifacts(run_id=run_id, path='preprocess', dst_path='.')\n"
     ]
    }
   ],
   "source": [
    "df = read_data(\"cars_24_combined.csv\")\n",
    "X_test, y_test = preprocess(df, run_id)"
   ]
  },
  {
   "cell_type": "code",
   "execution_count": 16,
   "id": "95ca6dfe-00dc-4dc3-9f46-2d7050acd8dd",
   "metadata": {},
   "outputs": [
    {
     "data": {
      "text/html": [
       "<div>\n",
       "<style scoped>\n",
       "    .dataframe tbody tr th:only-of-type {\n",
       "        vertical-align: middle;\n",
       "    }\n",
       "\n",
       "    .dataframe tbody tr th {\n",
       "        vertical-align: top;\n",
       "    }\n",
       "\n",
       "    .dataframe thead th {\n",
       "        text-align: right;\n",
       "    }\n",
       "</style>\n",
       "<table border=\"1\" class=\"dataframe\">\n",
       "  <thead>\n",
       "    <tr style=\"text-align: right;\">\n",
       "      <th></th>\n",
       "      <th>Unnamed: 0</th>\n",
       "      <th>Car Name</th>\n",
       "      <th>Year</th>\n",
       "      <th>Distance</th>\n",
       "      <th>Owner</th>\n",
       "      <th>Fuel</th>\n",
       "      <th>Location</th>\n",
       "      <th>Drive</th>\n",
       "      <th>Type</th>\n",
       "      <th>Price</th>\n",
       "    </tr>\n",
       "  </thead>\n",
       "  <tbody>\n",
       "    <tr>\n",
       "      <th>0</th>\n",
       "      <td>0</td>\n",
       "      <td>Maruti S PRESSO</td>\n",
       "      <td>2022.0</td>\n",
       "      <td>3878</td>\n",
       "      <td>1</td>\n",
       "      <td>PETROL</td>\n",
       "      <td>HR-98</td>\n",
       "      <td>Manual</td>\n",
       "      <td>HatchBack</td>\n",
       "      <td>514000</td>\n",
       "    </tr>\n",
       "    <tr>\n",
       "      <th>1</th>\n",
       "      <td>1</td>\n",
       "      <td>Hyundai Xcent</td>\n",
       "      <td>2018.0</td>\n",
       "      <td>32041</td>\n",
       "      <td>1</td>\n",
       "      <td>PETROL</td>\n",
       "      <td>TN-22</td>\n",
       "      <td>Manual</td>\n",
       "      <td>Sedan</td>\n",
       "      <td>674000</td>\n",
       "    </tr>\n",
       "  </tbody>\n",
       "</table>\n",
       "</div>"
      ],
      "text/plain": [
       "   Unnamed: 0         Car Name    Year  Distance  Owner    Fuel Location   \n",
       "0           0  Maruti S PRESSO  2022.0      3878      1  PETROL    HR-98  \\\n",
       "1           1    Hyundai Xcent  2018.0     32041      1  PETROL    TN-22   \n",
       "\n",
       "    Drive       Type   Price  \n",
       "0  Manual  HatchBack  514000  \n",
       "1  Manual      Sedan  674000  "
      ]
     },
     "execution_count": 16,
     "metadata": {},
     "output_type": "execute_result"
    }
   ],
   "source": [
    "pd.read_csv('cars_24_combined.csv').head(2)"
   ]
  },
  {
   "cell_type": "code",
   "execution_count": 21,
   "id": "4ae9d450-128c-4987-89f3-d9de93abeee6",
   "metadata": {},
   "outputs": [],
   "source": [
    "def read_data(filename):\n",
    "    df = pd.read_csv(filename, index_col=None).drop(columns=['Unnamed: 0'])\n",
    "    df.dropna(inplace=True)\n",
    "    \n",
    "    df.Location = df.Location.str.split('-').apply(lambda x : x[0])\n",
    "    df['Price'] = df.Price.apply(lambda x : x/1000)\n",
    "    \n",
    "    return df\n",
    "\n",
    "def preprocess(df, run_id ):\n",
    "    categorical_features = ['Car Name', 'Fuel', 'Location', 'Drive', 'Type']\n",
    "    \n",
    "    if 'Price' in df.columns : \n",
    "        y = df['Price'].values\n",
    "        X = df.drop(columns='Price')\n",
    "    else : \n",
    "        X,y = df, None\n",
    "        \n",
    "    path = Path(\"preprocess/preprocess.bin\")\n",
    "    #if not path.isfile():\n",
    "    client.download_artifacts(run_id=run_id, path='preprocess', dst_path='.')\n",
    "    print(X.head(2))\n",
    "    with open(path, 'rb') as f_in : \n",
    "        oe, scaler = pickle.load(f_in)\n",
    "    X[categorical_features] = oe.transform( X[categorical_features] )\n",
    "    X = scaler.transform(X)\n",
    "    return X,y"
   ]
  },
  {
   "cell_type": "code",
   "execution_count": 22,
   "id": "e01f6eed-4065-4b01-9c51-1c1fdd546d91",
   "metadata": {},
   "outputs": [
    {
     "name": "stdout",
     "output_type": "stream",
     "text": [
      "          Car Name    Year  Distance  Owner    Fuel Location   Drive   \n",
      "0  Maruti S PRESSO  2022.0      3878      1  PETROL       HR  Manual  \\\n",
      "1    Hyundai Xcent  2018.0     32041      1  PETROL       TN  Manual   \n",
      "\n",
      "        Type  \n",
      "0  HatchBack  \n",
      "1      Sedan  \n"
     ]
    },
    {
     "name": "stderr",
     "output_type": "stream",
     "text": [
      "C:\\Users\\rishikesh\\AppData\\Local\\Temp\\ipykernel_3900\\1048126354.py:21: FutureWarning: ``mlflow.tracking.client.MlflowClient.download_artifacts`` is deprecated since 2.0. This method will be removed in a future release. Use ``mlflow.artifacts.download_artifacts`` instead.\n",
      "  client.download_artifacts(run_id=run_id, path='preprocess', dst_path='.')\n"
     ]
    }
   ],
   "source": [
    "df = read_data(\"cars_24_combined.csv\")\n",
    "X_test, y_test = preprocess(df, run_id)"
   ]
  },
  {
   "cell_type": "code",
   "execution_count": 43,
   "id": "30b212f0-3fdb-4084-b1c2-c470454e655d",
   "metadata": {},
   "outputs": [],
   "source": [
    "sample = pd.DataFrame({'Car Name' : [ 'Maruti S PRESSO' ],\n",
    "              'Year' : [ 2022.0 ], \n",
    "              'Distance' : [ 3878 ], \n",
    "              'Owner' : [ 1 ],\n",
    "              'Fuel' : [ 'PETROL' ], \n",
    "              'Location' : [ 'HR' ], \n",
    "              'Drive' : [ 'Manual' ], \n",
    "              'Type' : [ 'HatchBack' ]\n",
    "             })"
   ]
  },
  {
   "cell_type": "code",
   "execution_count": 44,
   "id": "e1f6f6cd-7350-4259-aaa8-7eef3d364b52",
   "metadata": {},
   "outputs": [],
   "source": [
    "input_ = preprocess_(sample)"
   ]
  },
  {
   "cell_type": "code",
   "execution_count": 45,
   "id": "24088aa3-11c7-43b9-a57d-e7290500ad93",
   "metadata": {},
   "outputs": [
    {
     "name": "stderr",
     "output_type": "stream",
     "text": [
      "2023/07/30 12:58:21 WARNING mlflow.pyfunc: Detected one or more mismatches between the model's dependencies and the current Python environment:\n",
      " - numpy (current: 1.25.0, required: numpy==1.25.1)\n",
      " - typing-extensions (current: 4.7.0, required: typing-extensions==4.7.1)\n",
      "To fix the mismatches, call `mlflow.pyfunc.get_model_dependencies(model_uri)` to fetch the model's environment and install dependencies using the resulting environment file.\n"
     ]
    }
   ],
   "source": [
    "model = mlflow.pyfunc.load_model(model_uri=f\"models:/{model_name}/{stage}\")\n",
    "y_pred = model.predict(input_)"
   ]
  },
  {
   "cell_type": "code",
   "execution_count": 46,
   "id": "ad57bcc6-a5dc-467c-9082-6e53fb57f27b",
   "metadata": {},
   "outputs": [
    {
     "data": {
      "text/plain": [
       "510.5563"
      ]
     },
     "execution_count": 46,
     "metadata": {},
     "output_type": "execute_result"
    }
   ],
   "source": [
    "y_pred[0]"
   ]
  },
  {
   "cell_type": "code",
   "execution_count": 47,
   "id": "60195285-0c43-41ec-afcf-734963e985b9",
   "metadata": {},
   "outputs": [],
   "source": [
    "#pickle.dump(model, open('model.pkl', 'wb'))"
   ]
  },
  {
   "cell_type": "code",
   "execution_count": null,
   "id": "07fcd3e9-e97c-4cab-8f3f-57e453c54074",
   "metadata": {},
   "outputs": [],
   "source": []
  }
 ],
 "metadata": {
  "kernelspec": {
   "display_name": "Python 3 (ipykernel)",
   "language": "python",
   "name": "python3"
  },
  "language_info": {
   "codemirror_mode": {
    "name": "ipython",
    "version": 3
   },
   "file_extension": ".py",
   "mimetype": "text/x-python",
   "name": "python",
   "nbconvert_exporter": "python",
   "pygments_lexer": "ipython3",
   "version": "3.9.12"
  }
 },
 "nbformat": 4,
 "nbformat_minor": 5
}
